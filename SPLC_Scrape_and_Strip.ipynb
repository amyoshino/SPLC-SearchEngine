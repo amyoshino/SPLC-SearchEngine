{
 "cells": [
  {
   "cell_type": "markdown",
   "metadata": {},
   "source": [
    "### 1. Read in raw scraped files from directory\n",
    "### 2. Strip HTML tags\n",
    "### 3. Remove special characters / unicode\n",
    "#### Created by Jackie Weiser"
   ]
  },
  {
   "cell_type": "code",
   "execution_count": 13,
   "metadata": {
    "collapsed": false
   },
   "outputs": [],
   "source": [
    "import os, re, string\n",
    "from bs4 import BeautifulSoup\n",
    "from bs4.element import Comment\n",
    "import urllib"
   ]
  },
  {
   "cell_type": "code",
   "execution_count": null,
   "metadata": {
    "collapsed": true
   },
   "outputs": [],
   "source": [
    "import spacy\n",
    "supported_languages = ['en']\n",
    "language_dict = {'en':'english'}\n",
    "nlp_langs = {}\n",
    "for language in supported_languages:\n",
    "    nlp_langs[language]  = spacy.load(language)"
   ]
  },
  {
   "cell_type": "code",
   "execution_count": 2,
   "metadata": {
    "collapsed": true
   },
   "outputs": [],
   "source": [
    "path_to_docs = './'\n",
    "output_clean = 'clean_scraped_text/clean_scraped_text.txt'"
   ]
  },
  {
   "cell_type": "code",
   "execution_count": 3,
   "metadata": {
    "collapsed": false
   },
   "outputs": [],
   "source": [
    "def stripTags(text):\n",
    "    scripts = re.compile(r'<script.*?/script>')\n",
    "    css = re.compile(r'<style.*?/style>')\n",
    "    tags = re.compile(r'<.*?>')\n",
    "\n",
    "    text = scripts.sub('', text)\n",
    "    text = css.sub('', text)\n",
    "    text = tags.sub('', text)\n",
    "\n",
    "    return text\n",
    "\n",
    "def punctuation_remove(text):\n",
    "    \"\"\"\n",
    "    Mutates and returns text where all punctuation are replaced\n",
    "    \"\"\"\n",
    "    chars = re.escape(string.punctuation)\n",
    "    return re.sub(r'['+chars+']', ' ',text)\n",
    "\n",
    "def doublespace_remove(text):\n",
    "    return re.sub(' +',' ',text)"
   ]
  },
  {
   "cell_type": "code",
   "execution_count": 19,
   "metadata": {
    "collapsed": false
   },
   "outputs": [],
   "source": [
    "def tag_visible(element):\n",
    "    if element.parent.name in ['style', 'script', 'head', 'title', 'meta', '[document]']:\n",
    "        return False\n",
    "    if isinstance(element, Comment):\n",
    "        return False\n",
    "    return True\n",
    "\n",
    "\n",
    "def text_from_html(body):\n",
    "    soup = BeautifulSoup(body, 'html.parser')\n",
    "    texts = soup.findAll(text=True)\n",
    "    visible_texts = filter(tag_visible, texts)  \n",
    "    return u\" \".join(t.strip() for t in visible_texts)"
   ]
  },
  {
   "cell_type": "code",
   "execution_count": 4,
   "metadata": {
    "collapsed": false
   },
   "outputs": [],
   "source": [
    "webfiles = [webfile for webfile in os.listdir(path_to_docs) if '.' in webfile]\n",
    "htmlfiles = [{webfile:htmlfile} for htmlfile in os.listdir(path_to_docs + webfile) if htmlfile.endswith('.html') for webfile in webfiles]"
   ]
  },
  {
   "cell_type": "code",
   "execution_count": 21,
   "metadata": {
    "collapsed": false
   },
   "outputs": [
    {
     "data": {
      "text/plain": [
       "'./americanvikings.us/index.html'"
      ]
     },
     "execution_count": 21,
     "metadata": {},
     "output_type": "execute_result"
    }
   ],
   "source": [
    "path_to_docs + webfile + '/' + htmlfile"
   ]
  },
  {
   "cell_type": "code",
   "execution_count": 22,
   "metadata": {
    "collapsed": false
   },
   "outputs": [
    {
     "data": {
      "text/plain": [
       "['americanfreepress.net',\n",
       " 'active-democracy.com',\n",
       " 'addr.ws',\n",
       " 'americanvikings.us',\n",
       " 'americanvikings.com']"
      ]
     },
     "execution_count": 22,
     "metadata": {},
     "output_type": "execute_result"
    }
   ],
   "source": [
    "htmldict.keys()"
   ]
  },
  {
   "cell_type": "code",
   "execution_count": 32,
   "metadata": {
    "collapsed": false,
    "scrolled": false
   },
   "outputs": [],
   "source": [
    "characters_to_replace = ['\\u']\n",
    "htmldict = {}\n",
    "for webfile in webfiles[0:10]:\n",
    "    if not webfile in ['.gitignore','.DS_Store', '.git', '.ipynb_checkpoints','RawUrls.txt','README.md','SPLC_Strip_HTML.ipynb']:\n",
    "        htmlfiles = [htmlfile for htmlfile in os.listdir(path_to_docs + webfile) if htmlfile.endswith('.html')]\n",
    "        for htmlfile in htmlfiles:\n",
    "            with open(path_to_docs + webfile + '/' + htmlfile, \"r\") as myfile:\n",
    "                result = myfile.read()\n",
    "            if not webfile in htmldict.keys():\n",
    "                htmldict[webfile] = {}\n",
    "                if not htmlfile in htmldict[webfile].keys():\n",
    "                    try:\n",
    "                        htmldict[webfile][htmlfile] = text_from_html(result)\n",
    "                        for char in characters_to_replace:\n",
    "                            htmldict[webfile][htmlfile] = htmldict[webfile][htmlfile].encode('ascii','replace').lower().replace(char,\" \")\n",
    "                        htmldict[webfile][htmlfile] = punctuation_remove(htmldict[webfile][htmlfile])\n",
    "                        htmldict[webfile][htmlfile] = doublespace_remove(htmldict[webfile][htmlfile])\n",
    "                    except:\n",
    "                        print 'Bsoup Error: ' + webfile\n",
    "#                     try:\n",
    "# #                                 htmldict[webfile][htmlfile] = htmldict[webfile][htmlfile].replace(char,\" \")\n",
    "# #                                 with open(output_clean, \"a\") as myfile:\n",
    "# #                                     myfile.write(str(htmldict[webfile][htmlfile]))\n",
    "#                     except:\n",
    "#                         print 'Cleaning Error: ' + webfile\n"
   ]
  },
  {
   "cell_type": "code",
   "execution_count": 6,
   "metadata": {
    "collapsed": false
   },
   "outputs": [
    {
     "data": {
      "text/plain": [
       "['americanfreepress.net',\n",
       " 'active-democracy.com',\n",
       " 'addr.ws',\n",
       " 'americanvikings.us',\n",
       " 'americanvikings.com']"
      ]
     },
     "execution_count": 6,
     "metadata": {},
     "output_type": "execute_result"
    }
   ],
   "source": [
    "htmldict.keys()"
   ]
  },
  {
   "cell_type": "code",
   "execution_count": 33,
   "metadata": {
    "collapsed": false
   },
   "outputs": [
    {
     "data": {
      "text/plain": [
       "' terms of service about help privacy policy facebook twitter youtube search for home multimedia radio video audio the andrew carrington hitchcock afp show archives support store subscribe about login news ticker march 30 2017 american free press is under attack national news november 11 2017 trump will release jfk documents audio november 10 2017 that bloodbath in the old dominion politics november 10 2017 gop tax plan increases the most insidious tax freedom november 10 2017 globalists seek to scuttle brexit world november 7 2017 democrats behind fake news dossier featured audio trump will release jfk documents politics that bloodbath in the old dominion freedom gop tax plan increases the most insidious tax world globalists seek to scuttle brexit featured democrats behind fake news dossier featured cleaning house conspiracy buzz rhode island tackles geoengineering audio homelessness infectious diseases combine to create health disaster audio top tier treason and the uss liberty national news media watchdog group catches shocking nyt admission on tape audio interview https youtu be aphayocfxeo national news featured democrats behind fake news dossier november 7 2017 0 the hillary clinton campaign and the dnc have been tied to the bogus report on trump s deep compromising ties to russia which even former fbi director james comey called salacious and unverified that was released before democrats behind fake news dossier november 7 2017 0 cleaning house november 2 2017 2 rhode island tackles geoengineering october 27 2017 3 homelessness infectious diseases combine to create health disaster october 25 2017 3 world news world globalists seek to scuttle brexit november 10 2017 0 the new world order elite just won t let the british put britain first by mark anderson the british brexit vote cast june 23 2016 provided a clear indication of the populist revolt that s been simmering for globalists seek to scuttle brexit november 10 2017 0 two lost thorn books back in print october 20 2017 0 north korea nuke threat is multifold september 27 2017 14 killing iran nuke deal dangerous september 18 2017 2 what s happening now trump will release jfk documents november 11 2017 0 that bloodbath in the old dominion november 10 2017 0 gop tax plan increases the most insidious tax november 10 2017 0 globalists seek to scuttle brexit november 10 2017 0 democrats behind fake news dossier november 7 2017 0 cleaning house november 2 2017 2 this week s issue american free press apps bookstore isis is us bookstore the controllers secret rulers of the world bookstore bohemian grove cult of conspiracy bookstore jfk 9 11 50 years of the deep state bookstore the bilderbergers puppet masters of power alternative health war over nutrition healthy fats quietly rages behind the scenes as americans health continues to decline bookstore ecology ideology and power bookstore the new world order in action vol 1 bookstore hidden history conspiracy buzz audio trump will release jfk documents november 11 2017 0 the cia and fbi are worried about president trump s release of thousands of jfk assassination files apparently 54 years has not allowed them enough time to review the documents so they ve asked him for another six month obama refusing to face accusers in georgia court february 4 2012 0 putinism is nationalism january 5 2015 3 freedom freedom gop tax plan increases the most insidious tax november 10 2017 0 appointing a former investment banker to chair the federal reserve will have much longer lasting impact than any tax reform plan but adopting the chained consumer price index will increase the inflation tax dr paul maryland sheriff vows to resist tyranny december 31 2016 1 irs guilty october 5 2013 0 police state archive radio host pete santilli cops plea to avoid possible six year sentence october 9 2017 6 internet radio host pete santilli s surprising plea bargain could impact the other defendants cases in the ongoing bundy proceedings given his agreement with the prosecution s description of events near bunkerville when the blm attempted to take cliven bundy s russia and china move to dump the dollar threatening the new world order june 14 2017 5 did chinese regime change plot lead to assassination march 17 2017 1 radio podcast audio trump will release jfk documents november 11 2017 0 the cia and fbi are worried about president trump s release of thousands of jfk assassination files apparently 54 years has not allowed them enough time to review the documents so they ve asked him for another six month audio interview victor thorn s brother speaks august 4 2016 54 audio interviews article it s yom kippur let the chicken torture and slaughter begin september 21 2015 28 audio interview article the new world order is real october 28 2013 10 top video audio audio interview victor thorn s brother speaks august 4 2016 54 afp audio interview dave gahary spoke with william j bill makufka about his brother scott s victor s suicide that has shaken the truth community in a way few could have predicted due to the many questions 70 000 whites murdered in modern south africa obama s african legacy july 26 2015 172 update prominent afp clinton researcher found dead august 1 2016 157 324 000 u s blacks killed by blacks in only 35 years december 21 2014 94 most views last 24 hours archive 70 000 whites murdered in modern south africa obama s african legacy july 26 2015 172 by paul fromm since nelson mandela and the communist african national congress anc took over south africa more than 70 000 whites have been murdered and untold numbers have been robbed raped and tortured but you 70 000 whites murdered in modern south africa obama s african legacy july 26 2015 172 update prominent afp clinton researcher found dead august 1 2016 157 324 000 u s blacks killed by blacks in only 35 years december 21 2014 94 alternative health alternative health inside the poison papers august 25 2017 0 poison papers is the sadly appropriate name for an online compilation of documents that reveal decades of government cover ups on the use of toxic chemicals collusion between the chemical industry and regulatory agencies deceit incompetence fraud and 70 000 whites murdered in modern south africa obama s african legacy july 26 2015 172 update prominent afp clinton researcher found dead august 1 2016 157 324 000 u s blacks killed by blacks in only 35 years december 21 2014 94 edgar steele first amendment martyr dies in prison under mysterious circumstances september 5 2014 72 bookstore bookstore hidden history march 12 2017 0 hidden history an expos of modern crimes conspiracies and cover ups in american politics the u s government has spent as much time covering up conspiracies as it has helping the american people in hidden history you ecology ideology and power march 18 2017 0 the bilderbergers puppet masters of power march 12 2017 0 war over nutrition healthy fats quietly rages behind the scenes as americans health continues to decline may 16 2017 0 the new world order in action vol 1 march 18 2017 1 random news archive they were here before us and them march 29 2015 0 was there someone in the americas before the native indians if there were why is this information hidden find out with this new book from afp ancient visitors to the americas the evidence covers the mountain help derail fast track trade authority june 2 2015 0 the trans pacific partnership it s free trade on steroids july 4 2015 4 the nsa made in israel june 27 2013 0 10b down the tubes israel s iron dome a fraud december 19 2012 1 about me categories alternative health archive audio bookstore conspiracy buzz featured freedom latest issue mideast national news police state politics poll world recent articles trump will release jfk documents that bloodbath in the old dominion gop tax plan increases the most insidious tax globalists seek to scuttle brexit democrats behind fake news dossier recent comments frontncenter on top tier treason and the uss liberty mark anderson on rhode island tackles geoengineering josh on homelessness infectious diseases combine to create health disaster roger on cleaning house home about advertise help privacy policy terms and conditions copyright 2017 american free press all rights reserved subscribe '"
      ]
     },
     "execution_count": 33,
     "metadata": {},
     "output_type": "execute_result"
    }
   ],
   "source": [
    "htmldict['americanfreepress.net']['index.html']"
   ]
  },
  {
   "cell_type": "code",
   "execution_count": null,
   "metadata": {
    "collapsed": true
   },
   "outputs": [],
   "source": []
  }
 ],
 "metadata": {
  "anaconda-cloud": {},
  "kernelspec": {
   "display_name": "Python [Root]",
   "language": "python",
   "name": "Python [Root]"
  },
  "language_info": {
   "codemirror_mode": {
    "name": "ipython",
    "version": 2
   },
   "file_extension": ".py",
   "mimetype": "text/x-python",
   "name": "python",
   "nbconvert_exporter": "python",
   "pygments_lexer": "ipython2",
   "version": "2.7.12"
  }
 },
 "nbformat": 4,
 "nbformat_minor": 0
}
