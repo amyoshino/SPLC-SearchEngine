{
 "cells": [
  {
   "cell_type": "markdown",
   "metadata": {},
   "source": [
    "### 1. Read in raw scraped files from directory\n",
    "### 2. Strip HTML tags\n",
    "### 3. Remove special characters / unicode\n",
    "#### Created by Jackie Weiser"
   ]
  },
  {
   "cell_type": "code",
   "execution_count": 125,
   "metadata": {
    "collapsed": false
   },
   "outputs": [],
   "source": [
    "import os, re, string\n",
    "import pandas as pd\n",
    "import numpy as np\n",
    "from HTMLParser import HTMLParser\n",
    "from BeautifulSoup import BeautifulSoup as bsoup"
   ]
  },
  {
   "cell_type": "code",
   "execution_count": 130,
   "metadata": {
    "collapsed": false
   },
   "outputs": [],
   "source": [
    "def stripTags(text):\n",
    "    scripts = re.compile(r'<script.*?/script>')\n",
    "    css = re.compile(r'<style.*?/style>')\n",
    "    tags = re.compile(r'<.*?>')\n",
    "\n",
    "    text = scripts.sub('', text)\n",
    "    text = css.sub('', text)\n",
    "    text = tags.sub('', text)\n",
    "\n",
    "    return text\n",
    "\n",
    "def punctuation_remove(text):\n",
    "    \"\"\"\n",
    "    Mutates and returns text where all punctuation are replaced\n",
    "    \"\"\"\n",
    "    chars = re.escape(string.punctuation)\n",
    "    return re.sub(r'['+chars+']', ' ',text)\n",
    "\n",
    "def doublespace_remove(text):\n",
    "    return re.sub(' +',' ',text)"
   ]
  },
  {
   "cell_type": "code",
   "execution_count": 26,
   "metadata": {
    "collapsed": false
   },
   "outputs": [],
   "source": [
    "path_to_docs = './'\n",
    "\n",
    "webfiles = [webfile for webfile in os.listdir(path_to_docs) if '.' in webfile]\n",
    "htmlfiles = [{webfile:htmlfile} for htmlfile in os.listdir(path_to_docs + webfile) if htmlfile.endswith('.html') for webfile in webfiles]"
   ]
  },
  {
   "cell_type": "code",
   "execution_count": null,
   "metadata": {
    "collapsed": true
   },
   "outputs": [],
   "source": [
    "f = open(\"my_source.html\",\"r\")\n",
    "s = f.read()\n",
    "f.close()\n",
    "soup = BeautifulSoup.BeautifulSoup(s)\n",
    "txt = soup.body.getText()"
   ]
  },
  {
   "cell_type": "code",
   "execution_count": 154,
   "metadata": {
    "collapsed": false,
    "scrolled": false
   },
   "outputs": [],
   "source": [
    "characters_to_replace = ['\\xef','\\xbb','\\xbf','\\r','\\n','\\t','\\n','\\\\n','</div>','\\xe2','\\x80','\\xa6','jquery',' j ',' n ',' var ', ' div ']\n",
    "htmldict = {}\n",
    "for webfile in webfiles[0:10]:\n",
    "    if not webfile in ['.DS_Store', '.git', '.ipynb_checkpoints','RawUrls.txt','README.md','SPLC_Strip_HTML.ipynb']:\n",
    "        htmlfiles = [htmlfile for htmlfile in os.listdir(path_to_docs + webfile) if htmlfile.endswith('.html')]\n",
    "        for htmlfile in htmlfiles:\n",
    "            with open(path_to_docs + webfile + '/' + htmlfile, \"r\") as myfile:\n",
    "                result = myfile.read()\n",
    "            if not webfile in htmldict.keys():\n",
    "                htmldict[webfile] = bsoup(result).body.getText()\n",
    "                htmldict[webfile] = stripTags(htmldict[webfile])\n",
    "                for char in characters_to_replace:\n",
    "                    try:\n",
    "                        htmldict[webfile] = htmldict[webfile].encode('ascii','replace').lower().replace(char,\" \")\n",
    "                        htmldict[webfile] = htmldict[webfile].replace(char,\" \")\n",
    "                        htmldict[webfile] = punctuation_remove(htmldict[webfile])\n",
    "                        htmldict[webfile] = doublespace_remove(htmldict[webfile])\n",
    "                    except:\n",
    "                        print 'Error: ' + webfile"
   ]
  },
  {
   "cell_type": "code",
   "execution_count": 155,
   "metadata": {
    "collapsed": false
   },
   "outputs": [
    {
     "data": {
      "text/plain": [
       "['cfns.us',\n",
       " 'christianaction.org',\n",
       " 'americanfreepress.net',\n",
       " 'addr.ws',\n",
       " 'centerforsecuritypolicy.org']"
      ]
     },
     "execution_count": 155,
     "metadata": {},
     "output_type": "execute_result"
    }
   ],
   "source": [
    "htmldict.keys()"
   ]
  },
  {
   "cell_type": "code",
   "execution_count": null,
   "metadata": {
    "collapsed": true
   },
   "outputs": [],
   "source": []
  }
 ],
 "metadata": {
  "anaconda-cloud": {},
  "kernelspec": {
   "display_name": "Python [Root]",
   "language": "python",
   "name": "Python [Root]"
  },
  "language_info": {
   "codemirror_mode": {
    "name": "ipython",
    "version": 2
   },
   "file_extension": ".py",
   "mimetype": "text/x-python",
   "name": "python",
   "nbconvert_exporter": "python",
   "pygments_lexer": "ipython2",
   "version": "2.7.12"
  }
 },
 "nbformat": 4,
 "nbformat_minor": 0
}
