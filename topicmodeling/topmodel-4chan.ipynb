{
 "cells": [
  {
   "cell_type": "markdown",
   "metadata": {},
   "source": [
    "# Topic Modeling / LDA\n",
    "\n",
    "based on tutorial found at\n",
    "https://www.analyticsvidhya.com/blog/2016/08/beginners-guide-to-topic-modeling-in-python/\n"
   ]
  },
  {
   "cell_type": "code",
   "execution_count": 3,
   "metadata": {},
   "outputs": [],
   "source": [
    "import pandas as pd"
   ]
  },
  {
   "cell_type": "code",
   "execution_count": 4,
   "metadata": {},
   "outputs": [],
   "source": [
    "# read data\n",
    "df = pd.read_csv(\"posts_4chan_pol.csv\")"
   ]
  },
  {
   "cell_type": "code",
   "execution_count": 5,
   "metadata": {},
   "outputs": [],
   "source": [
    "# creat new column where 'Comments' strings are split into list-\n",
    "# this is needed as input for Gensim dictionaries\n",
    "df['Comment_split'] = df.Comment.str.split()"
   ]
  },
  {
   "cell_type": "code",
   "execution_count": 7,
   "metadata": {},
   "outputs": [
    {
     "name": "stdout",
     "output_type": "stream",
     "text": [
      "['board', 'discussion', 'news', 'world', 'event', 'political', 'issue', 'related', 'topic', 'offtopic', 'btier', 'thread', 'deleted', 'and', 'possibly', 'earn', 'ban', 'persist', 'unless', 'quality', 'well', 'thought', 'out', 'well', 'written', 'post', 'following', 'example', 'offtopic', 'andor', 'btier', 'thread', 'red', 'pill', 'x', 'with', 'extra', 'content', 'input', 'own', 'are', 'x', 'white', 'is', 'x', 'degeneracy', 'how', 'come', 'x', 'girl', 'love', 'guy', 'much', 'if', 'x', 'true', 'come', 'y', 'checkmate', 'z', 'variety', 'thread', 'allowed', 'flexible', 'believe', 'freedom', 'speech', 'expect', 'high', 'level', 'discourse', 'befitting', 'board', 'attempt', 'disrupt', 'board', 'tolerated', 'call', 'disrupt', 'board', 'site', 'want', 'place', 'discus', 'topic', 'related', 'news', 'world', 'event', 'politics', 'please', 'try', 'bant', 'internationalrandom']\n",
      "['come', 'armenian', 'dominant', 'haplogroup', 'western', 'european', 'armenian', 'european', 'heritageare', 'one', 'u']\n",
      "['ϟϟ', 'eternal', 'struggle', 'eternal', 'growth', 'ϟϟ', 'natsig', 'belongs', 'pol', 'tread', 'motivate', 'people', 'protect', 'white', 'race', 'make', 'country', 'diversity', 'promoted', 'better', 'giving', 'better', 'understanding', 'combat', 'this', 'improve', 'yourself', 'ᛉ', 'honor', 'blood', 'soil', 'ᛉ', 'purge', 'degeneracy', 'ᛉ', 'persistence', 'omnipotent', '8', 'gigabyte', 'selfimprovement', 'resource', 'httpsmeganzfzuzmibqzxhyeetuaj6an8ntbu1azw', 'pol', 'ebooks', 'archive', 'become', 'scholar', 'httpmeganzfb4db2szqhpmc30v2ay31id0dy0sg', 'ᛉ', 'new', 'natsig', 'start', 'httpsyoutubejwhufuuyhso', 'embed', 'httpsyoutubeuiozt5bsqk', 'embed', 'httpsyoutube34kot9ulnuy', 'embed', 'httpsyoutubeaig4jfm7gw', 'embed', 'ϟϟ', 'nsg', 'series', 'ϟϟ', 'httpsyoutubebr2imcwabjq', 'embed', 'ᛉ', 'see', 'general', 'catalog', 'copy', 'pastebin', 'start', 'one', 'natsig', 'httppastebincomvpzpydhk', 'original', 'sig', 'httpspastebincomjhmzwl9h', 'discord', 'gg', '9yzpqn9', 'ᛉ', 'science', 'literacy', 'httpsyoutubezah5subulvm', 'embed', 'human', 'accomplishment', 'douglas', 'murray', 'httpswwwgwernnetdocs2003murrayhumanaccomplishmentpdf', 'dysgenics', 'genetic', 'deterioration', 'modern', 'population', 'httpdocdroidavpyesh', 'race', 'difference', 'intelligence', 'richard', 'lynn', 'httpdocdroide2per1e', 'httpspastebincomq1hmec4a', 'httphumanbiologicaldiversitycom', 'ᛉ', 'political', 'position', 'statement', 'httpswwwnordfrontseourpath2', 'httpsnatallcomaboutwhatwebelieve', 'httpnorthwestfrontorgabout', 'httpspastebincomvr6jhew5', 'ᛉ', 'news', 'radio', 'commentary', 'forum', 'httpswwwspreakercomshownordicfrontier', 'httpironmarchorg', 'httpinfostormercom', 'httpsropecultureorg', 'httpsthepurityspiralcom', 'httpsatomwaffendivisionorg', 'httpswwwamericanblackshirtscom', 'ϟϟ', '3rd', 'reich', 'image', 'archive', 'ϟϟ', 'httpsmeganzfa8st2bcq8stgxguopzelof1zc0nz7w']\n",
      "['teacher', 'brainwashing', 'u', 'child', 'thinking', 'bad', 'guy', 'hitler', 'jew', 'done', 'good', 'world”', 'labour', 'candidate', 'nasreen', 'khan', 'httpsorderordercom20171110labourcandidategoodjewsdone', 'if', 'voted', 'leave', 'eu', 'dont', 'bother', 'wearing', 'poppy', 'httpwwwindependentcoukvoiceseuleavevoteremembrancesundaydontbotherwearingapoppya8043711html', 'father', 'go', 'state', 'wanting', 'kill', 'brain', 'damaged', 'son', 'banned', 'hospital', 'httpswwwtheguardiancomuknews2017nov10isaiahhaastrupfatherbannedkingscollegehospitaltreatingbraindamagedsoncourttold', 'uk', 'must', 'provide', 'brexit', 'clarity', 'barnier', 'httpwwwbbccouknewsukpolitics41941414', 'pressure', 'grows', 'carwyn', 'jones', 'order', 'carl', 'sargeant', 'inquiry', 'httpswwwtheguardiancompolitics2017nov10pressuregrowswelshfirstministercarwynjonescarlsargeantinquiry', 'uk', 'prosecutor', 'destroyed', 'crucial', 'email', 'assange', 'case', 'httpswwwrtcomuk409477assangecpswikileakssweden', 'owen', 'jones', 'httpsenwikipediaorgwikiowenjoneswriter', 'britain', 'back', 'ban', 'bee', 'killing', 'pesticide', 'httpswwwnewfoodmagazinecomnews46238britainbacksbanbeekillingpesticides', 'plenty', 'room', 'left', 'build', 'million', 'house', 'greenbelt', 'end', 'like', 'tokyo', 'httpwwwbbccouknewsuk41901294', 'alex', 'salmond', 'host', 'tv', 'show', 'russia', 'today', 'nicola', 'sturgeon', 'screech', 'autisically', 'httpwwwbbccouknewsukscotlandscotlandpolitics41941359']\n",
      "['guy', 'know', 'fucking', 'retarded', 'sound', 'seriously', 'what’s', 'special', 'ethnic', 'group', 'guy', 'make', 'fun', 'chink', 'soul', 'japanese', 'equally', 'devoid', 'soul', 'working', '30', 'hour', 'day', 'subhuman', 'thing', 'like', 'eat', 'whale', 'believe', 'demon', 'spirit', '鬼', 'superstitious', 'shit', 'seriously', 'actual', 'japanese', 'people', 'think', 'gaijin', 'retarded', 'japanese', 'don’t', 'care', 'anyone’s', 'who’s', 'japanese', 'fabricate', 'politeness', 'seriously', 'you’re', 'buying', 'propaganda', 'ethno', 'state', 'superiority', 'fact', 'they’re', 'bad', 'asian', 'make', 'fun', 'of', 'httpsyoutube0gjxbywmlt4']\n",
      "['president', 'donald', 'j', 'trump', 'httpswwwwhitehousegov', 'httpswwwdonaldjtrumpcom', 'bbut', 'trump', 'hasnt', 'done', 'anything', 'httpspastebincomjns5qy2q', 'httpspastebincombcsagmdf', 'prev', 'appearanceslinks', 'httppastebincomynxv6cht', 'daily', 'schedule', 'wh', 'press', 'corp', 'httpspublicpoolkinjacom', 'trumptv', 'weekly', 'update', 'httpspastebincom6hbhjbqf', 'newtrump', 'nightly', 'news', 'httppastebincomyarfukdc', 'new', 'appearance', 'pres', 'trump', 'weekly', 'address', '40', 'vet', 'day', 'message', '111117', 'httpsyoutubej9chiogd9xg', 'wh', 'video', 'flotus', 'melania', 'visit', 'mil', 'family', 'alaska', '111117', 'httpsyoutube9dtgefqsbym', 'vp', 'penny', 'arlington', 'natl', 'cemetary', 'veteran', 'day', 'ceremony', '111117', 'httpsyoutubea23ftwq8hga', 'pres', 'trump', 'toast', 'hanoi', 'state', 'banquet', '111117', 'httpsyoutubei8ghkk765w0', 'pres', 'trump', 'red', 'carpet', 'arrival', 'hanoi', '111117', 'httpsyoutubesw8wblcn66o', 'pres', 'trump', 'departs', 'danang', 'toward', 'hanoi', '111117', 'httpsyoutubefj41zqw72va', 'pres', 'trumpputin', 'chatting', 'apec', '111117', 'httpsyoutubeq0dney9ey34', 'pres', 'trumpapec', 'family', 'photo', '111117', 'httpsyoutubeubulbjr4', 'pres', 'trumpapec', 'conference', '111117', 'httpsyoutubetysq2krcyb4', 'va', 'sec', 'shulkin', 'ff', 'veteran', 'day', '111117', 'httpsyoutubez7cki8g9phc', 'this', 'week', 'state', '111017', 'httpsyoutubelhvnibnptfg', 'pres', 'trump', 'arriving', 'apec', 'conference', '111017', 'httpsyoutubetvrgds3hdlu', 'trumptv', 'weekly', 'update', '16', 'lara', '111017', 'httpsyoutuber8p7xrmhpzg', 'pres', 'trump', 'clip', 'apec', 'dinner', '111017', 'httpsyoutubejlgkbuzpuu8', 'httpsyoutube4ve5k3yibcs', 'pres', 'trump', 'arriving', 'apec', 'dinner', '111017', 'httpsyoutuberwevxdjfra', 'pres', 'trump', 'apec', 'dinner', 'full', '111017', 'httpsyoutube7tfzlqvdr0', '2hr', 'httpsyoutubesu32dedlymw', '4hr', 'flotus', 'melania', 'meeting', 'service', 'member', 'family', 'alaska', '111017', 'httpsyoutubeaenyu6d8qk0', 'httpsyoutubeczadgkqs9s', 'decorating', 'httpsyoutubettrrbwbkphk', 'putty', 'httpsyoutubefomesbhfm6u', 'kazoo', 'op', 'pastebin', 'httppastebincomnygxu29r', 'prev', '149016092']\n",
      "['httpswwwyoutubecomwatchva4jxhhxhwya', '1035', 'talk', 'hiddencryptic', 'message', 'type', 'comment', 'emulator', 'get', 'taiwan', 'crap', 'google', 'translate', 'english', 'or', 'lasagna', 'you', 'get', 'almost', 'right', 'sentence', 'hi', 'p', 'btw', 'uh', 'uncategorized', 'uncategorised', 'deti', 'ikk', 'c', 'u', 'soo', 'mparkinglot', 'conijijj', 'bunayyy', 'tke', 'lemonide', 'bring', 'cut', 'right', 'word', 'pedo', 'message', 'maybe', 'one', 'another', 'come', 'c', 'u', 'soo', 'nparkinglot', 'bring', 'talk', 'friendship', 'comment', 'especially', 'rule', 'silent', 'inb4', 'mod', 'delete']\n",
      "['thread', 'theme', 'httpsyoutubeyg3tchbzs', 'national', 'party', 'httpwwwnationalpartyie', 'join', 'party', 'spread', 'wordmemes', 'social', 'circle', 'online', 'otherwise', 'learn', 'irish', 'httpwwwdaltaicom', 'httpwwwteanglannieen', 'jewtube', 'channel', 'note', 'national', 'party', 'httpswwwyoutubecomchannelucxgy69monugucdo1ypygng', 'the', 'hateful', 'gael', 'httpswwwyoutubecomchannelucdhug96y6kut7tcfghgj1ug', 'the', 'don', 'httpswwwyoutubecomchannelucmnqhyf2dq3i0evri95p83a', 'gaelic', 'neoreactionary', 'httpswwwyoutubecomchannelucrucve1fxhz8m8xxxeug', 'headline', 'half', 'longford', 'mixed', 'race', '2050', 'httpwwwlongfordleaderienewshome280520longfordtobemixedracecountyby2050htmlwgrzjtlrj7ktwitter', 'homelessness', 'figure', 'low', 'international', 'standard', 'varadkar', 'httpswwwrteienews20171111919200finegaelnationalconference', 'hard', 'border', 'happen', 'coveney', 'httpswwwrteienews20171111919232coveneynothernirelandborder', 'abortion', 'case', 'rape', 'legalised', 'katie', 'ascough', 'httpswwwindependentieirishnewspoliticskatieascoughabortionincasesofrapeshouldnotbelegalised36310126html', 'unionist', 'praise', 'taoiseach', 'shamrock', 'poppy', 'httpswwwindependentieirishnewspoliticsunionistspraisetaoiseachforshamrockpoppy36303437html', 'apple', 'data', 'centre', 'not', 'dead', 'httpswwwindependentieirishnewspoliticsappledatacentredealnotdeadtaoiseach36303415html', 'taoiseach', 'say', 'ireland', 'joining', 'european', 'army', 'httpwwwthejournalieirelandeuropeanarmy3686674nov2017', 'irish', 'dead', 'world', 'war', 'ii', 'honoured', 'glasnevin', 'cemetery', 'httpwwwthejournalieworldwariandiideadhonoured3692267nov2017', 'memorial', 'irish', 'people', 'died', 'war', 'damaged', 'sligo', 'httpwwwthejournaliepoppiesdamagedsligo3680327nov2017']\n",
      "['thought', 'httpsyoutubeu0nwiwacll8']\n",
      "['10', 'year', 'old', 'daughter', 'event', 'mike', 'wouldnt', 'let', 'sight']\n",
      "['were', 'starting', 'hate', 'nazi', 'here', 'it', 'clear', 'theyre', 'autistic', 'retard', 'trying', 'subvert', 'right', 'leftist', 'policy', 'also', 'give', 'right', 'wing', 'bad', 'reputation', 'push', 'people', 'left', 'nazi', 'white', 'nationalist', 'antifa', 'maker', 'machine', 'cant', 'let', 'continue', 'too', 'tired', 'nazi', 'coming', 'board', 'general', 'you', 'post', 'shame', 'image', 'discus', 'removal', 'stormfaggotry', 'nazism', 'fascism', 'white', 'nationalism', 'collectivism', 'larpdom', 'leftism', 'ancaps', 'libertarian', 'republican', 'welcome', 'redpilled', 'african', 'american', 'asian', 'hispanic', 'latino', 'muslim', 'welcome', 'well', 'death', 'collectivism', 'death', 'identity', 'politics', 'death', 'big', 'authoritarian', 'government', 'the', 'cheapest', 'sort', 'pride', 'national', 'pride', 'man', 'proud', 'nation', 'argues', 'quality', 'proud', 'otherwise', 'would', 'recourse', 'share', 'many', 'million', 'fellowmen', 'man', 'endowed', 'important', 'personal', 'quality', 'ready', 'see', 'clearly', 'respect', 'nation', 'fall', 'short', 'since', 'failing', 'constantly', 'eye', 'every', 'miserable', 'fool', 'nothing', 'proud', 'adopts', 'last', 'resource', 'pride', 'nation', 'belongs', 'ready', 'glad', 'defend', 'fault', 'folly', 'tooth', 'nail', 'thus', 'reimbursing', 'inferiority', 'arthur', 'schopenhauer', 'nazi', 'get', 'punched', 'httpswwwyoutubecomwatchvuyk6io7vqnu', 'thread', 'theme', 'httpswwwyoutubecomwatchvfhtkjtctnw']\n",
      "['it', 'fear', 'potential', 'much', 'westerner', 'want', 'u', 'fail', 'theyre', 'shook', 'want', 'u', 'weak', 'nonchinese', 'like', 'black', 'arab', 'instinctively', 'know', 'charge', 'strategy', 'guilt', 'others', 'get', 'want', 'go', 'window', 'come', 'chinaman', 'ban', 'lgbt', 'online', 'doesnt', 'advocate', 'forced', 'multiculturalism', 'like', 'western', 'white', 'doesnt', 'declining', 'asian', 'population', 'western', 'country', 'white', 'people', 'becoming', 'minority', 'especially', 'united', 'state', 'hate', 'nigger', 'kike', 'beaner', 'mudslimes', 'white', 'very', 'high', 'iq', 'people', 'probably', 'highest', 'entire', 'planet', 'american', 'play', '8d', 'chess', 'chinaman', 'play', 'intergalactic', 'mahjong', 'chinaman', 'im', 'flattered', 'every', 'race', 'get', 'shook', 'discussion', 'dont', 'get', 'mad', 'see', 'thing', 'nationalist', 'perspective', 'benefit', 'me', 'ethnicity', 'race', 'it', 'normal', 'look', 'people', 'instead', 'compromise', 'others', 'dont', 'interest', 'mind']\n",
      "['happens', 'lose', 'guy']\n",
      "['trying', 'turn', 'tay', 'white', 'supremacist', 'look', 'like', 'pewdiepie', 'situation', 'again', 'purpose', 'really', 'stupid']\n",
      "['sweden', 'yes']\n",
      "['httpspastebinca3930472', 'updated', 'qrd', 'summary', '148419355', '101', '148320351', 'simple', 'rundown', '–', '148716861', '148534214', 'mintel', 'anon', '–', '148441866', 'via', '122', '148431375', 'saudi', 'theory', '–', '148330306', 'via', '102', '148327163', '148730808', 'via', '116', '148398169', 'sa', 'timeline', '–', '148405748', '148403658', '148403651', 'savegas', '–', '148329521', 'via', '101', '148321423', 'big', 'picture', '–', '148641955', 'via', '100', '148317067', 'rpp', '–', '148630370', 'via', '127', '148457750', 'endgame', '–', '148635997', 'pull', 'hair', '–', '148645685', 'via', '115', '148391315', 'q', 'this', 'new', 'theory', '–', 'search', 'analytics', '186', '148755584', '187', '148761491', '148762064', '185', '148754194', 'need', 'circular', 'diagram', 'flowchart', 'infographics', '148892856', 'httpspastebinca3930472', '148908717', '148944776', '148930190', '148933290', 'read', 'q', '148990567', '148987052', 'disney', 'huma', 'n', 'trafficking', '148748376', 'theorist', 'httpstttthreadscomuserimperatorrex3', 'httpstttthreadscomuserlarryschweikart', 'httpstttthreadscomuserdrawandstrike', 'httpstttthreadscomuserthomaswictor', 'anons', 'work', 'wont', 'forgotten', 'let', 'energy', 'level', 'rise', 'like', 'never', 'before', 'praise', 'kek', '148972588', 'httpsappsmartsheetcombpublisheqbcte3d1071b533c412f8bc08ebbb1b444f6', 'anons', 'charged', 'holding', 'together', 'fabric', 'society', 'happening', 'announced', 'pullback', 'tear', 'fabric', 'remember', 'ancestor', 'duty', 'peace', 'prosperity', 'reward', 'keep', 'head', 'keep', 'eye', 'goal', 'redpill', 'normies', 'fulfill', 'goal', '“bastion', 'free', 'speech”', 'pol', 'pray', 'make', 'corruption', 'wiki', 'highlight', 'corrupt', 'link', 'betweeen', 'clinton', 'saudi', 'rothsichilds', 'awans', 'politician', 'written', 'interlinked', 'form', 'reference', 'say', 'wikis', 'normie', 'friendly', '149013899', '149012942']\n",
      "['anyone', 'seen', 'debate', 'literally', '3', 'hour', 'completely', 'dismantling', 'altright', 'sadnazi', 'movement', 'fake', 'news', 'talking', 'point']\n",
      "['httpswwwyoutubecomwatchvaypeagy9eg', 'httpswwwyoutubecomwatchvwxqhsxyvt0', 'httpswwwyoutubecomwatchvi6xtmalouy8', 'httpswwwyoutubecomwatchvqamu6weymo8', 'httpswwwyoutubecomwatchvbdcxxuxiwe']\n",
      "['show', 'love', 'king', 'pol', 'gone', 'enough', 'mj', 'jew', 'httpswwwyoutubecomwatchvp2xpctm9ya', 'mj', 'collected', 'nazi', 'memorabilia', 'httpthecelebritycafecom201007michaeljacksonfannazimemorabilia', 'mj', 'talk', 'conspiracy', 'httpswwwyoutubecomwatchvo2n4mcuh2p0', 'mj', 'medium', 'tabloid', 'httpswwwyoutubecomwatchvgcu6kn5gmy', 'complete', 'rebuttal', 'allegation', 'httpswwwyoutubecomwatchv6pnoqqlygqs', 'evan', 'chandler', 'the', 'accuser', '1993', 'allegation', 'jewish', 'httpsenwikipediaorgwikievanchandler', 'paris', 'jackson', 'claim', 'mj', 'murdered', 'httpwwwindependentcouknewsworldamericasparisjacksonmichaeljacksonwasmurdereddeadsingerdaughterpopstara7544946html', 'httpsarchiveis26xz4', 'they', 'going', 'kill', 'me', 'httpwwwwptvcomentertainmentmichaeljacksontheyregoingtokillmemichaeljacksontoldson']\n",
      "['jesus', 'christ', 'bob', 'mueller', 'please', 'hero', 'need', 'lock', 'traitorous', 'shit', 'gibbon', 'up', 'total', 'disrespect', 'constitution', 'fucking', 'appalling', 'fuck', 'trump', 'every', 'breath', 'take', 'httpswwwvoxcom2017111116636906trumprussiaputinintelligence', 'trumprussia']\n",
      "['hey', 'pol', 'im', '22', 'year', 'old', 'black', 'guy', 'looking', 'get', 'shithole', 'country', 'collapse', 'degreeskill', 'get', 'go', 'original', 'plan', 'england', 'seem', 'pretty', 'fucked', 'whats', 'left']\n",
      "['prev', 'thread', '148972901', 'give', 'advice', 'person', 'struggling', 'sexual', 'disphoria', 'struggling', 'full', 'blown', 'trap', 'degeneracy', 'remember', 'someone', 'son', 'someone', 'hope', 'offspring', 'dont', 'anons', 'tell', 'u', 'started', 'feeling', 'like']\n",
      "['time', 'next', 'one', 'guy', 'httpswwwyoutubecomwatchvjg2z35efoa', 'make', 'subtle', 'red', 'pill', 'meme', 'maybe', 'something', 'trigger', 'normies', 'mind', 'make', 'really', 'think', 'jewish', 'question', 'dont', 'anything', 'worthy', 'yet', 'im', 'trying', 'come', 'something', 'itt', 'trigger', 'jq', 'normies', 'brain']\n",
      "['httpwwwocweeklycomnewsaremexicanswhite6426421', 'interesting', 'article', 'find', 'inspiring', 'compelling', 'we', 'called', 'spanish', 'considered', 'white', 'im', 'mexican', 'consider', 'white', 'im', 'black', 'red', 'asian', 'understand', 'im', 'made', 'of', 'people', 'spain', 'caucasian', 'u', 'educator', 'dont', 'teach', 'anything', 'spain', 'prove', 'white', 'isnt', 'subjective', 'everchanging', 'u', 'mexican', 'northern', 'mexican', 'least', 'always', 'considered', 'white', 'latter', 'half', '20th', 'century', 'know', 'took', 'control', 'time', 'yep', 'eternal', 'nuisance', 'pic', 'related', 'clear', 'proof', 'white', 'european', 'immigrated', 'latin', 'america', '19th', '20th', 'century', 'whose', 'offspring', 'remains', 'day', 'white', 'argentinian', 'meme', 'polack', 'perpetuate', 'day', 'ill', 'tell', 'quite', 'accurate', 'according', 'httpsenwikipediaorgwikiargentinesoverview', 'argentine', 'proven', '86', 'white', 'thousand', 'european', 'immigrant', 'came', 'throughout', 'latter', 'part', '19th', 'century', 'early', '19th', 'century', 'tell', 'presence', 'white', 'hispanic', 'limit', 'presence', 'risk', 'le', 'white', 'america']\n",
      "['archivestudyresearchlibrary', 'syriageneralswordpresscom', 'southfront', 'nov', '10', 'httpyoutubekw95tlehcrq', 'latest', 'interview', 'assad', 'httpsyoutubeulxrv8tf5z8', 'httpsyoutubearhsocxen2q', 'live', 'map', 'httpsglobaleventmaporg', 'httpsyrialiveuamapcom', 'httpmilitarymapsinfo', 'fan', 'map', 'httpstwittercompetolucem', 'httpstwittercommiladvisor', 'httpstwittercoma7mirza', 'httpstwittercomhamza780', 'httpswwwedmapscom', 'recent', 'map', 'random', 'nov', '11', 'httpsimgurcomaakdim', 'dezbukamal', 'nov', '9', 'httpsimgurcoma8uqzx', 'n', 'hama', 'nov', '8', 'httpsiimgurcomhlgv4dzjpg', 'ne', 'hama', 'nov', '5', 'httpsiimgurcomnqba38gjpg', 's', 'syria', 'nov', '3', 'httpsiimgurcomsc9su1djpg', 'development', 'nov', '11', 'iraqi', 'pmu', 'force', 'taken', 'control', 'albukamalqa’im', 'crossing', 'hezbollah’s', 'official', 'medium', 'wing', 'reported', 'tonight', 'putintrump', 'release', 'joint', 'statement', 'call', 'country', 'build', 'humanitarian', 'assistance', 'sy', 'agree', 'continue', 'military', 'comm', 'security', 'ruus', 'troop', 'a', 'saudi', 'national', 'kidnapped', 'house', 'keserwan', 'district', 'mount', 'lebanon', 'governorate', 'thursday', 'backed', 'tiger', 'forcesrepublican', 'guard', 'saa', 'marine', 'begin', 'offensive', 'ne', 'hama', 'axis', 'towards', 'abu', 'dhuhour', 'military', 'airport', 'iraqi', 'armed', 'force', 'liberated', 'stronghold', 'alrumanah', 'short', 'battle', 'w', 'countryside', 'alanbar', 'governorate', 'iran', 'constructing', 'possible', 'permanent', 'military', 'base', 'south', 'damascus', 'according', 'western', 'intelligence', 'officer', 'spoke', 'bbc', 'saa', 'resumed', 'offensive', 'outside', 'dez', 'targeting', 'last', 'position', 'large', 'island', 'hawijat', 'qati', 'sdf', 'seize', 'nearly', 'dozen', 'village', 'today', 'advance', 'within', '25', 'kilometer', 'abu', 'kamal', 'hts', 'attempted', 'infiltrate', 'town', 'mahardeh', 'attack', 'checkpoint', 'manned', 'saandf', 'pushed', 'back', 'firefight', 'hts', 'rocket', 'attack', 'ongoing', 'isi', 'set', 'rawa', 'town', 'iraqi', 'army', 'prepares', 'assault', 'israel', 'disavows', 'claim', 'russian', 'origin', 'downed', '‘syrian', 'spy', 'drone’', 'previous', '148989545']\n",
      "['thread', 'u', 'whose', 'coming', 'age', 'current', '911', 'youre', 'oldfag', 'enough', 'situation', 'get', 'here', '14', 'happened', 'spent', 'high', 'school', 'day', 'height', 'iraq', 'war']\n",
      "['commie', 'statist', 'cucks', 'compete']\n",
      "['post', 'oc', 'request', 'drawfags', 'present', 'thread', 'either', 'way', 'fun', 'boy', 'useful', 'link', 'httpsmeganzf2rarfalavtiqb6erxfv4v6myq6fjta']\n",
      "['explain', 'pol']\n",
      "['kept', 'miscengating', 'amerindian', 'formed', 'mongrel', 'race', 'called', 'mestizo', 'even', 'mix', 'amerindian', 'spaniard', 'u', 'canadian', 'settler', 'contrast', 'miscengate', 'amerind', 'know', 'whats', 'even', 'worse', 'spaniard', 'also', 'miscengated', 'nigger', 'mestizo', 'average', '36', 'black', 'blood', 'even', 'though', 'wont', 'admit', 'it', 'god', 'spaniard', 'miscengation', 'look', 'shitty', 'latin', 'american', 'look', 'american', 'canadian', 'look', 'much', 'better', 'get', 'really', 'pissed', 'see', 'people', 'spanish', 'flag', 'post', 'accuse', 'american', 'mongrel', 'admixed', 'nigger', 'amerindian', 'blood', 'actually', 'american', 'pure', 'latin', 'american', 'nigger', 'indian', 'admixed', 'mongrel', 'spaniard', 'awful', 'miscengators', 'actually', 'honest', 'even', 'sure', 'spain', 'free', 'nigger', 'blood', 'contamination', 'especially', 'southern', 'part', 'country', 'is', 'spain', 'country', 'spent', '8', 'century', 'occupation', 'bunch', 'octoroon', 'morocco', 'getting', 'mixed', 'someplace', 'else']\n",
      "['listening', 'girlfriend', 'bitch', 'objectification', 'sexual', 'assault', 'came', 'across', 'biggest', 'forgotten', 'bonus', 'female', 'woman', 'something', 'people', 'want', 'body', 'value', 'male', 'body', 'not', 'yes', 'people', 'try', 'steal', 'access', 'body', 'ie', 'rape', 'suck', 'see', 'young', 'attractive', 'woman', 'complaining', 'fear', 'rape', 'similar', 'lamborghini', 'owner', 'complaining', 'fear', 'car', 'theft', 'yes', 'something', 'people', 'want', 'good', 'thing', 'im', 'sorry', 'people', 'try', 'take', 'you', 'forget', 'actually', 'something', 'people', 'want', 'first', 'place', 'get', 'live', 'advantage', 'whole', 'entire', 'life', 'youre', 'bitching', 'get', 'deal', 'comparatively', 'small', 'consequence']\n",
      "['need', 'repeal', 'polish', 'potato', 'order', '2004', 'england', 'httpswwwchangeorgpmichaelgovemprepealthepolishpotatoesorder2004intheukpolishpotatogate']\n",
      "['three', 'different', 'instance', 'theft', 'china', 'nail', 'coffin']\n",
      "['give', 'rest', 'u', 'credit', 'there', 'revolutionarycivil', 'war', 'every', 'fucking', 'year', 'it', 'basically', 'tradition']\n",
      "['okay', 'here', 'issue', '1', 'christianity', 'universalist', 'religion', 'galatian', '328', 'neither', 'jew', 'gentile', 'neither', 'slave', 'free', 'male', 'female', 'one', 'christ', 'jesus', '2', 'christian', 'around', 'world', 'arent', 'white', 'it', 'basically', 'become', 'brown', 'black', 'asian', 'religion', 'day', '3', 'christianity', 'entire', 'mythology', 'semitic', 'come', 'middle', 'east', 'youre', 'going', 'deport', 'jew', 'think', 'theyre', 'god', 'chosen', 'people']\n",
      "['trump', 'said', 'belief', 'putin', 'told', 'russia', 'election', 'hacking', 'putin', 'say', 'conversation', 'never', 'happened', 'never', 'trust', 'rskie', 'warned', 'you', 'instead', 'youve', 'elected', 'useful', 'idiot', 'going', 'run', 'america', 'ground', 'american', 'impeach', 'clown', 'can', 'httpssharebluecomtrumphumiliatedbyputinaftershoweringthedictatorwithpraise']\n",
      "['president', 'donald', 'j', 'trump', 'httpswwwwhitehousegov', 'httpswwwdonaldjtrumpcom', 'bbut', 'trump', 'hasnt', 'done', 'anything', 'httpspastebincomjns5qy2q', 'httpspastebincombcsagmdf', 'prev', 'appearanceslinks', 'httppastebincomynxv6cht', 'daily', 'schedule', 'wh', 'press', 'corp', 'httpspublicpoolkinjacom', 'trumptv', 'weekly', 'update', 'httpspastebincom6hbhjbqf', 'newtrump', 'nightly', 'news', 'httppastebincomyarfukdc', 'new', 'appearance', 'pres', 'trump', 'weekly', 'address', '40', 'vet', 'day', 'message', '111117', 'httpsyoutubej9chiogd9xg', 'wh', 'video', 'flotus', 'melania', 'visit', 'mil', 'family', 'alaska', '111117', 'httpsyoutube9dtgefqsbym', 'vp', 'penny', 'arlington', 'natl', 'cemetary', 'veteran', 'day', 'ceremony', '111117', 'httpsyoutubea23ftwq8hga', 'pres', 'trump', 'toast', 'hanoi', 'state', 'banquet', '111117', 'httpsyoutubei8ghkk765w0', 'pres', 'trump', 'red', 'carpet', 'arrival', 'hanoi', '111117', 'httpsyoutubesw8wblcn66o', 'pres', 'trump', 'departs', 'danang', 'toward', 'hanoi', '111117', 'httpsyoutubefj41zqw72va', 'pres', 'trumpputin', 'chatting', 'apec', '111117', 'httpsyoutubeq0dney9ey34', 'pres', 'trumpapec', 'family', 'photo', '111117', 'httpsyoutubeubulbjr4', 'pres', 'trumpapec', 'conference', '111117', 'httpsyoutubetysq2krcyb4', 'va', 'sec', 'shulkin', 'ff', 'veteran', 'day', '111117', 'httpsyoutubez7cki8g9phc', 'this', 'week', 'state', '111017', 'httpsyoutubelhvnibnptfg', 'pres', 'trump', 'arriving', 'apec', 'conference', '111017', 'httpsyoutubetvrgds3hdlu', 'trumptv', 'weekly', 'update', '16', 'lara', '111017', 'httpsyoutuber8p7xrmhpzg', 'pres', 'trump', 'clip', 'apec', 'dinner', '111017', 'httpsyoutubejlgkbuzpuu8', 'httpsyoutube4ve5k3yibcs', 'pres', 'trump', 'arriving', 'apec', 'dinner', '111017', 'httpsyoutuberwevxdjfra', 'pres', 'trump', 'apec', 'dinner', 'full', '111017', 'httpsyoutube7tfzlqvdr0', '2hr', 'httpsyoutubesu32dedlymw', '4hr', 'flotus', 'melania', 'meeting', 'service', 'member', 'family', 'alaska', '111017', 'httpsyoutubeaenyu6d8qk0', 'httpsyoutubeczadgkqs9s', 'decorating', 'httpsyoutubettrrbwbkphk', 'putty', 'httpsyoutubefomesbhfm6u', 'kazoo', 'op', 'pastebin', 'httppastebincomnygxu29r', 'prev', '149011509']\n",
      "['i’ve', 'extremely', 'dismayed', 'read', 'much', 'rape', 'culture', 'woman', 'girl', 'treated', 'men', 'boy', 'raised', 'i’ve', 'read', 'much', 'teach', 'boy', 'visavis', 'girl', 'woman', 'which', 'usually', 'agree', 'with', 'yet', 'read', 'little', 'simply', 'raise', 'emotionally', 'evolvedaware', 'conscious', 'respectful', 'othersandwellversed', 'consent', 'for', 'others', 'sometimes', 'feel', 'left', 'dark', 'face', 'that', 'absolutely', 'determined', 'part', 'around', 'raising', 'boy', 'proud', 'he', 'aware', 'others’', 'boundary', 'curious', 'questioning', 'world', 'think', 'begin', 'here', 'now', 'one', 'child', 'time', 'sometimes', 'one', 'bath', 'time', 'bath', 'day', 'three', 'year', 'old', 'said', '“mama', 'stretch', 'out', 'i”ll', 'touch', 'vulva”', 'said', '“i', 'don’t', 'really', 'want', 'touch', 'vulva', 'besides', 'need', 'ask', 'like', 'someone', 'wanted', 'touch', 'penis', 'ask', 'touch', 'penis”', '“do', 'it”', '“do', 'what”', 'three', 'yearold', 'slightly', 'exasperated', '“say', 'touch', 'penis”', 'slightly', 'slow', 'uptake', 'suddenly', 'dawned', 'me', '“you', 'want', 'ask', 'touch', 'penis”', '“yes”', 'unusual', 'request', 'decided', 'go', 'it', '“can', 'touch', 'penis”', 'asked', '“yes”', 'reach', 'touch', 'one', 'second', 'pause', 'then', 'say', '“mama', 'penis', 'sensitive”', 'nod', '“yeah', 'vulva', 'sensitive', 'too', 'sometimes', 'breast', 'nipple', 'also', 'sensitive”', 'face', 'light', 'up', '“do', 'want', 'touch', 'boobies”', 'asks', 'place', 'finger', 'little', 'nipple', '“okay', 'actually', 'nipples”', '“do', 'want', 'touch', 'nipples”', 'touch', 'one', 'lightly', '“do', 'want', 'touch', 'one”', 'touch', 'one', 'lightly', 'smile', 'smile', 'want', 'play', 'wrongway', 'whale', 'thrash', 'around', 'tub']\n",
      "['much', 'money', 'would', 'need', 'longer', 'fear', 'fired', 'job', 'ostracized', 'stock', 'trading', 'property', 'crypto', 'etc', 'due', 'racist', 'opinion', 'political', 'view']\n",
      "['western', 'country', 'first', 'see', 'breakdown', 'law', 'order', 'im', 'talking', 'civil', 'war', 'ethnic', 'cleansing', 'stuff', 'feel', 'like', 'inevitable', 'question', 'when', 'first', 'rise', 'money', 'french']\n",
      "['cnn', 'interview', 'richard', 'spencer', 'said', 'were', 'fuddy', 'duddy', 'conservative', 'go', 'bed', '9pm', 'warm', 'glass', 'milk', 'like', 'party', 'like', 'fun', 'joke', 'richard', 'spencer', 'endorse', 'partying', 'partying', 'probably', 'degenerate', 'thing', 'world', 'party', 'people', 'get', 'intoxicated', 'people', 'drink', 'alcohol', 'sex', 'although', 'named', 'two', 'degenerate', 'thing', 'plenty', 'go', 'on', 'would', 'richard', 'spencer', 'brag', 'behaviour', 'httpswwwyoutubecomwatchvn2xrz2w7fi']\n",
      "['come', 'arent', 'mgtow', 'pol', 'recent', 'scandal', 'proving', 'u', 'right', 'know']\n",
      "['pol', 'state', 'best', 'money', 'massachusetts', 'born', 'raised', 'boston', 'live', 'chicago', 'it', 'shithole']\n",
      "['were', 'party', 'reagan', 'anymore']\n",
      "['china', 'soon', 'world', '1', 'economy', 'wise', 'china', 'reach', 'position', 'would', 'without', 'war', 'thing', 'really', 'high', 'population', 'world', 'chinese', 'youngster', 'studying', 'abroad', 'occupying', 'every', 'university', 'across', 'globe', 'especially', 'usa', 'mostly', 'staying', 'abroad', 'chinese', 'family', 'tradition', 'chinese', 'company', 'top', 'notch', 'nowadays', 'huaweii', 'tencent', 'etc', 'china', 'opened', 'second', 'silkroad', 'china', 'getting', 'expensive', 'wealth', 'going', 'up', 'salary', 'huge', 'china', 'dont', 'let', 'foreigner', 'work', 'china', 'rather', 'dont', 'treat', 'special', 'snowflake', 'huge', 'ghost', 'city', 'think', 'future', 'population', 'even', 'bigger', 'now', 'longer', '1child', 'policy', 'lower', 'class', 'middle', 'class', 'uprising', 'china', 'take', 'shit', 'foreigner']\n",
      "['saying', 'rightwing', 'party', 'banned', 'mean', 'extreme', 'hate', 'speech', 'like', 'example', 'william', 'luther', 'pierce', 'said', 'really', 'hateful', 'thing', 'fully', 'allowed', 'american', 'constitution', 'thing', 'said', 'black', 'people', 'human', 'subhuman', 'animal', 'queer', 'transvestite', 'extreme', 'degenerate', 'deserve', 'hung', 'haiti', 'prosperous', 'caribbean', 'island', 'black', 'subhumans', 'took', 'french', 'law', 'order', 'replaced', 'despotism', 'savagery', 'last', 'one', 'isnt', 'exact', 'quote', 'it', 'found', 'httpswwwyoutubecomwatchvhmjlh3qcngm', 'question', 'type', 'speech', 'banned', 'considering', 'america', 'it', 'fully', 'legal']\n",
      "['whats', 'wrong', 'white', 'dude', 'white', 'wife', 'ton', 'fucking', 'white', 'kid', 'rarely', 'poverty', 'ton', 'fucking', 'gun', 'stockpile', 'ammo', 'enough', 'food', 'last', 'apocalypse', 'weve', 'federal', 'government', 'since', 'day', 'one', 'know', 'one', 'day', 'turn', 'back', 'u', 'the', 'happening', 'happens', 'utah', 'safe', 'haven', 'along', 'northern', 'texas', 'county', 'near', 'utah', 'filled', 'mormon', 'reason', 'let', 'black', 'people', 'priesthood', '70', 'didnt', 'want', 'get', 'sued', 'someone', 'dont', 'pope', 'thats', 'cuck', 'let', 'faggot', 'gay', 'arent', 'prolgbt', 'vast', 'majority', 'u', 'white']\n",
      "['stadium', 'white', 'hoe', 'look', 'like', 'shes', 'drunk', 'for', 'one', 'another', 'reason', 'cop', 'taking', 'she', 'attack', 'nigger', 'cop', 'slap', 'the', 'dindu', 'reacts', 'punch', 'putting', 'white', 'bitch', 'as', 'sleep', 'muthafucka', 'race', 'war', 'continues', 'webm', 'video', 'related', 'httpswwwyoutubecomwatchv4x8eotc6v4']\n",
      "['httpwwwdwcomenartistrosemariekoczyfakedherholocaustsurvivorsstorya41301763', 'oy', 'vey', 'another', 'fake', 'survivor', 'sold', 'story', '60', 'year']\n",
      "['tsar', 'nicholai', 'gorbatschow', 'putin', 'russian', 'based', 'race']\n",
      "['they', 'dropped', 'pretence', 'arent', 'even', 'trying', 'subtle', 'more', 'httpswwwyoutubecomwatchvkfasxiklsle', 'httpswwwyoutubecomwatchvfynhzfyp3ts', 'httpswwwyoutubecomwatchvjw1yzhquru', 'httpswwwyoutubecomwatchvqsukauruu1i']\n",
      "['sex', 'male', 'age', '24', 'height', '5ft', '11in', 'weight', '158lbs', 'sex', 'female', 'age', '21', 'height', '5ft', '7in', 'weight', '133lbs', 'sex', 'male', 'age', '52', 'height', '5ft', '10in', 'weight', '211lbs', 'sex', 'male', 'age', '29', 'height', '6ft', '3in', 'weight', '228lbs', 'sex', 'female', 'age', '35', 'height', '5ft', '7in', 'weight', '150lbs', 'sex', 'female', 'age', '19', 'height', '5ft', '2in', 'weight', '129lbs', 'sex', 'male', 'age', '16', 'height', '5ft', '8in', 'weight', '145lbs']\n",
      "['pol', 'think', 'trump', 'far', 'think', 'he', 'well', 'ha', 'kept', 'border', 'wall', 'promise', 'ha', 'reduced', 'illegal', 'immigration', 'drastically', 'is', 'going', 'pas', 'decent', 'tax', 'cut', 'bill', 'ha', 'deregulated', 'president', 'least', '90', 'year', 'were', 'talking', 'president', 'coolidge', 'year', 'here', 'prowhite', 'implicitly', 'supported', 'raise', 'act', 'banned', 'trannies', 'military', 'unfortunately', 'syria', 'strike', 'shit', 'think', 'he', 'well']\n",
      "['year', 'ago', 'idea', 'welled', 'up', 'bursting', 'placid', 'water', 'western', 'civility', 'public', 'discourse', 'whole', 'revolutionary', 'candidate', 'donald', 'trump', 'mr', 'trump', 'rising', 'putrid', 'water', 'entertainment', 'celebrity', 'acted', 'swiftly', 'branded', 'rhino', 'defanged', 'fat', 'cat', 'lobbyist', 'finally', 'extirpated', 'hillary', 'clinton', 'itself', 'really', 'it', 'believe', 'may', 'found', 'answer', 'lady', 'gentleman', 'enjoy', 'fruit', 'research', 'solely', 'communicate', 'emitting', 'shrill', 'screetchs', 'war', 'cry', 'alert', 'prey', 'presence', 'gather', 'ravenous', 'ally', 'support', 'both', 'left', 'trail', 'body', 'efficient', 'killing', 'getting', 'away', 'afterwards', 'both', 'cannot', 'tolerate', 'heat', 'sunlight', '11112016', 'lest', 'forget', 'left', '5min', 'both', 'similar', 'taxonomy', 'likely', 'indicating', 'single', 'ancestor', 'both', 'feed', 'weak', 'sense', 'smell', 'acute', 'attack', 'vunerable', 'hillary', 'clinton', 'demogorgon']\n",
      "['feel', 'like', 'pol', 'idea', 'quality', 'traditional', 'woman', 'lining', 'right', 'outside', 'door', 'marry', 'evil', 'kike', 'hollywood', 'showed', 'picture', 'white', 'woman', 'kissing', 'black', 'guy', 'reality', 'see', 'trashy', 'fat', 'white', 'woman', 'ghetto', 'hoodrats', 'total', 'college', 'slut', 'black', 'boyfriend', 'seems', 'like', 'woman', 'race', 'mix', 'first', 'place', 'ready', 'fucked', 'mental', 'level', 'race', 'mixing', 'visual', 'representation', 'that', 'woman', 'relationship', 'black', 'guy', 'already', 'tell', 'worth', 'time', 'maybe', 'thank', 'brother', 'helping', 'weed', 'roasties']\n",
      "['pol', 'think', 'vaccine', 'safe', 'not']\n",
      "['remember', 'cocky', 'acted', 'got', 'jail', 'time', '20', 'yr', 'deserved']\n",
      "['hey', 'pol', 'white', 'goy', 'here', 'understand', 'jew', 'control', 'medium', 'banking', 'pentagon', 'etc', 'understand', 'caused', 'financial', 'crash', 'promote', 'sexual', 'degeneracy', 'marxism', 'hated', 'scorned', 'this', 'question', 'sincere', 'question', 'im', 'looking', 'answer', 'take', 'jew', 'israel', 'devoutly', 'religious', 'hate', 'sexual', 'degeneracy', 'ethical', 'tell', 'truth', 'hate', 'jew', 'im', 'basically', 'point', 'hate', 'global', 'cabal', 'hitler', 'spoke', 'of', 'think', 'skin', 'head', 'neonazis', 'basically', 'another', 'trap', 'jewish', 'elite', 'tldr', 'hate', 'jewish', 'elite', 'hate', 'jewish', 'pleb', 'friend', 'who', 'jewish', 'guy', 'smoke', 'weed', 'play', 'guitar', 'doesnt', 'bother', 'anyone', 'hate', 'him']\n",
      "['would', 'like', 'take', 'moment', 'thank', 'whoever', 'designed', 'disease', 'bill', 'gate', 'maybe', 'saving', 'west', 'extension', 'world', 'uruk', 'horde']\n",
      "['fella', 'make', 'pipe', 'bomb', 'fella', 'get', 'conscience', 'give', 'bomb', 'friend', 'avoid', 'committing', 'crime', 'police', 'get', 'anon', 'tip', 'weapon', 'mass', 'destruction', 'gas', 'water', 'heater', 'gas', 'fireplace', 'bomb', 'going', 'couldve', 'set', 'chain', 'reaction', 'httpwwwwsoctvcomnewslocalcharlotteairtrafficcontrollerarrestedforhavingweaponofmassdestruction645308150']\n",
      "['guy', 'gave', 'arm', 'honor', 'dont', 'wish', 'him', 'fuck', 'army', 'bunch', 'fag']\n",
      "['stefan', 'likely', 'literal', 'genius']\n",
      "['need', 'source', 'swedish', 'rape', 'statistic', 'german', 'crime', 'statistic', 'race', 'im', 'drinking', 'lefty', 'moment', 'need', 'help']\n",
      "['rhodesia', 'declared', 'independence', 'britain', '52', 'year', 'ago', 'today', 'time', 'wa', 'httpswwwyoutubecomwatchvt4zc7brwnhi']\n",
      "['looking', 'stats', 'apparently', 'scandinaviantier', 'living', 'standard', 'wich', 'begs', 'question', 'white', 'they']\n",
      "['independent', 'memer', 'here', 'question', 'conservative', 'pol', 'could', 'please', 'tell', 'believe', 'donald', 'trump', 'accomplished', 'thus', 'far', 'presidency', 'im', 'trying', 'bait', 'cause', 'argument', 'im', 'research', 'pet', 'project', 'mine', 'im', 'trying', 'gather', 'opinion', 'side', 'aisle', 'trump', 'presidency', 'efficacy', 'date', 'wouldnt', 'much', 'trouble', 'could', 'answer', 'couple', 'question', 'honestly', 'can', 'how', 'feel', 'state', 'gop', 'is', 'party', 'compared', '2012', 'do', 'believe', 'donald', 'trump', 'action', 'thus', 'far', 'permanence', 'likely', 'last', 'long', 'hehis', 'supporter', 'remain', 'power', 'do', 'believe', 'nation', 'international', 'diplomatic', 'status', 'improved', 'regressed', 'compared', 'state', '2012', 'what', 'word', 'would', 'summarize', 'donald', 'trump', 'accomplished', 'first', 'year', 'president', 'area', 'would', 'consider', 'failure', 'rather', 'accomplishment', 'naturally', 'arent', 'question', 'rest', 'arent', 'really', 'worth', 'asking', 'anonymous', 'board']\n",
      "['living', 'canada', 'life', 'general', 'stereotype', 'sorry', 'sorry', 'sorry', 'true', 'others', 'wrong', 'about']\n",
      "['prophecy', 'coming', 'true']\n",
      "['someone', 'pointed', 'day', 'cant', 'figure', 'out', 'hell', 'going', 'on', 'it']\n",
      "['need', 'leave', 'woman', 'child', 'alone', 'literally', 'never', 'anything', 'you', 'literally', 'mad', '2', 'people', 'love', 'other', 'it', 'none', 'business', 'woman', 'decides', 'marry']\n",
      "['afraid', 'almighty', 'slavic', 'warrior']\n",
      "['part', 'anons']\n",
      "['secular', 'christian', 'way', 'secular', 'jew', 'would', 'general', 'opinion', 'someone', 'doesnt', 'quite', 'believe', 'christian', 'god', 'also', 'doesnt', 'deny', 'exsistence', 'personally', 'cant', 'bring', 'total', 'faith', 'doesnt', 'stop', 'defending', 'chstianity', 'spreading', 'word', 'lord', 'often', 'people', 'life', 'think', 'im', 'christian', 'possible', 'u', 'make', 'christianity', 'sort', 'identity', 'rather', 'religion']\n",
      "['girl']\n",
      "['discord', 'yshxtn9', 'daily', 'reminder', 'natsocs', 'still', 'socialist']\n",
      "['spot', 'bluepilled', 'cuck', 'ask', 'question', 'if', 'discovered', '5', 'year', 'old', 'child', 'yours', 'would', 'still', 'raise', 'it', 'yes', 'cuck', 'mentality', 'sane']\n",
      "['dak', '161016']\n",
      "['basic', 'dumbfuck', 'raised', 'pornhub', 'pill', 'good', 'following', 'order', 'killing', 'people', 'join', 'military', 'get', 'paid', 'legally', 'kill', 'people', 'life', 'rest', 'life', 'wellfare', 'state', 'brag', 'protecting', 'freedom', 'lol', 'wont', 'shut', 'fuck', 'muh', 'friend', 'left', 'die', 'muh', 'missing', 'limb', 'really', 'need', 'entire', 'day', 'devoted', 'sanctimonious', 'crybabbies']\n",
      "['what', 'redpill', 'experience', 'mine', 'music', 'video', 'like', 'one', 'httpswwwyoutubecomwatchv6pgljak23w']\n",
      "['christ', 'many', 'pollies', 'turn', 'secretly', 'british']\n",
      "['bias', 'incident', 'prevention', 'response', 'coordinator', 'report', 'assistant', 'dean', 'student', 'responsible', 'function', 'including', 'coordination', 'bias', 'response', 'team', 'providing', 'direct', 'support', 'service', 'student', 'concern', 'crisis', 'serving', 'team', 'responsible', 'providing', 'support', 'resource', 'referral', 'student', 'concern', 'contributing', 'function', 'dean', 'student', 'office', 'support', 'administrative', 'student', 'support', 'crisis', 'management', 'function', 'bias', 'incident', 'prevention', 'response', 'coordinator', 'sustains', 'expands', 'upon', 'current', 'student', 'life', 'dei', 'initiative', 'engages', 'effective', 'practice', 'intended', 'support', 'student', 'experiencing', 'bias', 'challenge', 'associated', 'campus', 'climate', 'seems', 'like', 'perfect', 'job', 'average', 'polack', 'put', 'application', 'rest', 'u', 'fuck', 'cucks', 'bias', 'incident', 'reporting', 'form', 'httpsumichadvocatesymplicitycomcarereportindexphppid476074']\n",
      "['vote', 'clinton', 'jew', 'win', 'whats', 'even', 'point']\n",
      "['end', 'game', 'httpswwwdailystarcouknewsweirdnews659252chinaxijinpingspacealiensufoweirdnewsasialiucixin']\n",
      "['sickening', 'fsu', 'ban', 'greek', 'life', 'httpswwwgooglecomampwwwmypalmbeachpostcomnewssuspensiongreeklifefsutoomuchtoolittlekig14tuw7pkeg0bc5g1idiamphtml', 'neomarxist', 'article', 'deatroying', 'greek', 'life', 'make', 'men', 'governable', 'httpdailytrojancom20160203inlightofstructuralinequitybangreeklife', 'stop', 'direct', 'assault', 'american', 'culture', 'step', 'towards', 'achieving', 'total', 'pussification', 'men', 'u', 'society', 'ban', 'greek', 'life', 'castrate', 'young', 'men', 'looking', 'engage', 'natural', 'human', 'male', 'activity', 'end', 'goal', 'destroy', 'concept', 'boy', 'completely', 'degenerate', 'american', 'man', 'kek', 'big', 'news']\n",
      "['think', 'lot', 'white', 'people', 'even', 'gen', 'z', 'youngings', 'still', 'used', 'seeing', 'america', 'white', 'nation', 'happens', 'dawn', 'u', 'changed', 'happens', 'politics', 'medium', 'culture', 'overwhelmingly', 'shitskin', 'feel', 'like', 'racial', 'polarization', 'kick', 'white', 'grow', 'racist', 'good', 'thing', 'right', 'danger', 'white', 'people', 'shifting', 'hard', 'racism', 'fault', 'regressive', 'left', 'ask', 'pol', 'keep', 'white', 'sliding', 'back', '1950s', 'style', 'racism', 'study', 'worry', 'alot', 'httparchiveisgfn87']\n",
      "['link', 'german', 'httpwwwfocusderegionalberlintierquaelereiinberlinjungermannmissbrauchtponysexuellbabysitterinundkindmuessenallesmitansehenid7832758html', 'httpswwwmorgenpostdeberlinpolizeiberichtarticle212502451jungermannvergehtsichsexuellanponyimgoerlitzerparkhtml', 'link', 'english', 'httpswww10newsonesyrianrefugeearrestedforrapingponyatchildrenszoo']\n",
      "['well']\n",
      "['httpswwwmsncomenusnewspoliticspodestagrouponthevergeofshutteringamidtiestomuellerprobearbbeqxy1libbmkt5rocidspartanntp', 'podesta', 'group', 'btfo', 'pol', 'slueths', 'outta', 'business', 'end', 'yearpack', 'desksjpeg', 'may', 'never', 'go', 'prison', 'theyll', 'wish', 'theyd', 'never', 'incurred', 'wrath', 'pol']\n",
      "['–youre', 'man', 'lookĩng', 'dhe', 'world', 'kēȳhole', '–i', 'ńeed', 'fêminism', 'becâûse', 'im', 'tired', 'feelĩng', 'unmanly', 'enjoyĩng', 'girlfriend', 'sťrapon']\n",
      "['lawfags', 'speak', 'legality', 'exposing', 'child', 'nked', 'adult', 'legal', 'shouldnt', 'people', 'getting', 'charged', 'form', 'sexual', 'assault', 'minor', 'like', 'somebody', 'ran', 'front', 'kid', 'flashed', 'dick', 'would', 'arrested', 'different', 'post', 'like', 'pic', 'related', 'them', 'fact', 'illegal', 'could', 'take', 'shit', 'like']\n",
      "['proof', 'collusion', 'found', 'httpsyoutubegsf9u2abtfk', 'cnn', 'wapo', 'soon']\n",
      "['remember', 'watching', 'grandpa', 'heidi', 'biene', 'maja', 'pippi', 'langstrumpf', 'home', 'loving', 'beautiful', 'traditionalist', 'feel', 'it', 'feel', 'sad', 'everything', 'like', 'slowly', 'going', 'away', 'germany', 'beautiful', 'til', 'feel', 'like', 'mid', '2000s', 'itt', 'turned', 'shit', 'literally', 'mean', 'goddamn', 'iphone', 'released', 'made', 'refugee', 'see', 'germany', 'good', 'target', 'immigrate', 'made', 'disgusting', 'turkish', 'rap', 'culture', 'spread', 'amongst', 'teen', 'book', 'long', 'stuff', 'sped', 'degeneration', 'culture', 'up', 'maybe', 'necessary', 'sacrifice', 'make', 'internet', 'young', 'people', 'getting', 'redpilled', 'even', 'fucking', '9gag', 'see', 'pol', 'meme', 'torn', 'apart', 'excited', 'future', 'sad', 'current', 'state', 'country', 'multicultural', 'acceptance', 'youth', 'want', 'good', 'old', 'day', 'back', 'httpswwwyoutubecomwatchvpu7mjod0o0y', 'httpswwwyoutubecomwatchvpu7mjod0o0y']\n",
      "['propose', 'set', 'income', 'tax', '100', 'percent', 'way', 'would', 'responsibility', 'state', 'look', 'everyoneall', 'wealth', 'would', 'evenly', 'distributed', 'people', 'united', 'kingdom', 'refugee', 'want', 'come', 'here', 'all', 'everyone', 'agrees', 'tax', 'facilitate', 'transfer', 'wealth', '“have”', '“need”', 'read', 'whole', 'article', 'httpwwwgulagiancomaonehundredpercentincometax']\n",
      "['read', 'section']\n",
      "['showa', 'ultranationalism', 'coming', 'back', 'scary', 'httpswwwyoutubecomwatchvesxnv1ksmqq', 'httpswwwyoutubecomwatchvihjsocaresg', 'httpswwwyoutubecomwatchvr6zixuye1t8', 'httpswwwyoutubecomwatchvnj6w3atgzai']\n",
      "['pol', 'starter', 'pack']\n",
      "['youre', 'saying', 'lgbtq', 'movement', 'nothing', 'pedophile', 'think']\n",
      "['it’s', 'hard', 'admit', 'pol', 'feminist', 'kind', 'right', 'rape', 'culture', 'look', 'honestly', 'coming', 'decade', 'ton', 'powerful', 'men', 'sexually', 'assaulting', 'harassing', 'woman', 'men', 'repeat', 'offender', '“open', 'secret”', 'imagine', 'you’re', 'one', 'woman', 'happened', 'to', 'everyone', 'industry', 'know', 'happened', 'you', 'happen', 'woman', 'yet', 'say', 'nothing', 'continue', 'associate', 'person', 'victimized', 'you', 'wouldn’t', 'behavior', 'part', 'tacit', 'acceptance', 'behavior', 'predator', 'constitute', 'dare', 'say', 'it', 'rape', 'culture']\n",
      "['httpswwwgooglecaampwwwnydailynewscomampopinionjapansafegunsarticle11223065', 'gangster', 'extremely', 'unlikely', 'sell', 'gun', 'non', 'gangster', 'due', 'risk', 'mass', 'shooting', 'happening', 'bringing', 'much', 'attention', 'gang', 'let', 'alone', 'chance', 'emo', 'want', 'shoot', 'school', 'whatever', 'know', 'buy', 'black', 'market', 'gun', 'somehow', 'knowledge', 'resource', 'make', 'one', 'bomb', 'precisely', 'england', 'australia', 'mexico', 'brazil', 'venezuela', 'many', 'modern', 'guncontrol', 'nation', 'amazing', 'safe', 'today', 'check', 'mate', 'ameriburgers', 'going', 'give', 'gun', 'join', 'current', 'year', 'like', 'mexico', 'did']\n",
      "['nice', 'try', 'establishment', 'republican', 'tactic', 'doesnt', 'work', 'anymore', 'make', 'wonder', 'next', 'tactic', 'realize', 'it']\n"
     ]
    }
   ],
   "source": [
    "# clean up Comment_split column:\n",
    "\n",
    "# drop N/A values\n",
    "df = df.dropna()\n",
    "\n",
    "# define function to remove integers from lists\n",
    "def rm_integer( list ):\n",
    "    \n",
    "    print(list)\n",
    "    newlist = []\n",
    "        \n",
    "    for s in list:\n",
    "        if (s.isdigit() or (s[0] == '-' and s[1:].isdigit())):\n",
    "            continue\n",
    "        else:\n",
    "            newlist.append(s)\n",
    "    \n",
    "    return newlist\n",
    "\n",
    "# apply remove-integer function to dataframe column\n",
    "df['Comment_split'] = df['Comment_split'].apply(rm_integer)"
   ]
  },
  {
   "cell_type": "code",
   "execution_count": 9,
   "metadata": {},
   "outputs": [],
   "source": [
    "# Importing Gensim (see tutorial)\n",
    "import gensim\n",
    "from gensim import corpora\n",
    "\n",
    "# Creating the term dictionary of our courpus, where every unique term is assigned an index.\n",
    "dictionary = corpora.Dictionary(df['Comment_split'])\n",
    "\n",
    "# Converting list of documents (corpus) into Document Term Matrix using dictionary prepared above.\n",
    "doc_term_matrix = [dictionary.doc2bow(doc) for doc in df['Comment_split']]"
   ]
  },
  {
   "cell_type": "code",
   "execution_count": 10,
   "metadata": {},
   "outputs": [],
   "source": [
    "# Do Topic Modeling (see tutorial)\n",
    "# Creating the object for LDA model using gensim library\n",
    "Lda = gensim.models.ldamodel.LdaModel\n",
    "\n",
    "# Running and Trainign LDA model on the document term matrix.\n",
    "ldamodel = Lda(doc_term_matrix, num_topics=5, id2word = dictionary, passes=50)"
   ]
  },
  {
   "cell_type": "code",
   "execution_count": 11,
   "metadata": {},
   "outputs": [
    {
     "data": {
      "text/plain": [
       "[(0, '0.010*\"people\" + 0.006*\"like\" + 0.006*\"woman\" + 0.006*\"student\"'),\n",
       " (1, '0.008*\"china\" + 0.008*\"nov\" + 0.006*\"x\" + 0.005*\"thread\"'),\n",
       " (2, '0.015*\"pres\" + 0.014*\"trump\" + 0.009*\"white\" + 0.007*\"apec\"'),\n",
       " (3, '0.008*\"hate\" + 0.008*\"pol\" + 0.006*\"it\" + 0.006*\"jewish\"'),\n",
       " (4, '0.009*\"white\" + 0.008*\"touch\" + 0.007*\"like\" + 0.007*\"want\"')]"
      ]
     },
     "execution_count": 11,
     "metadata": {},
     "output_type": "execute_result"
    }
   ],
   "source": [
    "# print output\n",
    "ldamodel.print_topics(num_topics=5, num_words=4)"
   ]
  },
  {
   "cell_type": "code",
   "execution_count": null,
   "metadata": {},
   "outputs": [],
   "source": []
  }
 ],
 "metadata": {
  "kernelspec": {
   "display_name": "Python 3",
   "language": "python",
   "name": "python3"
  },
  "language_info": {
   "codemirror_mode": {
    "name": "ipython",
    "version": 3
   },
   "file_extension": ".py",
   "mimetype": "text/x-python",
   "name": "python",
   "nbconvert_exporter": "python",
   "pygments_lexer": "ipython3",
   "version": "3.6.3"
  }
 },
 "nbformat": 4,
 "nbformat_minor": 2
}
