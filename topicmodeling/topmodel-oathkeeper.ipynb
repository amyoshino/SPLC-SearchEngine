{
 "cells": [
  {
   "cell_type": "code",
   "execution_count": 1,
   "metadata": {},
   "outputs": [],
   "source": [
    "import pandas as pd"
   ]
  },
  {
   "cell_type": "code",
   "execution_count": 6,
   "metadata": {},
   "outputs": [],
   "source": [
    "# prepare cleanup function\n",
    "from nltk.corpus import stopwords \n",
    "from nltk.stem.wordnet import WordNetLemmatizer\n",
    "import string\n",
    "stop = set(stopwords.words('english'))\n",
    "exclude = set(string.punctuation) \n",
    "lemma = WordNetLemmatizer()\n",
    "\n",
    "def clean(doc):\n",
    "    stop_free = \" \".join([i for i in doc.lower().split() if i not in stop])\n",
    "    punc_free = ''.join(ch for ch in stop_free if ch not in exclude)\n",
    "    normalized = \" \".join(lemma.lemmatize(word) for word in punc_free.split())\n",
    "    return normalized"
   ]
  },
  {
   "cell_type": "code",
   "execution_count": 27,
   "metadata": {},
   "outputs": [],
   "source": [
    "# read data\n",
    "df = pd.read_pickle(\"nationalOathKeepers\")"
   ]
  },
  {
   "cell_type": "code",
   "execution_count": 31,
   "metadata": {},
   "outputs": [],
   "source": [
    "# restrict data set to first nrows rows\n",
    "nrows = 100\n",
    "df = df[:nrows]"
   ]
  },
  {
   "cell_type": "code",
   "execution_count": 33,
   "metadata": {},
   "outputs": [],
   "source": [
    "# clean up\n",
    "#docs = df.post_content\n",
    "df['post_clean'] = [clean(doc).split() for doc in df.post_content]"
   ]
  },
  {
   "cell_type": "code",
   "execution_count": 35,
   "metadata": {},
   "outputs": [],
   "source": [
    "# Importing Gensim\n",
    "import gensim\n",
    "from gensim import corpora\n",
    "\n",
    "# Creating the term dictionary of our courpus, where every unique term is assigned an index.\n",
    "dictionary = corpora.Dictionary(df['post_clean'])\n",
    "\n",
    "# Converting list of documents (corpus) into Document Term Matrix using dictionary prepared above.\n",
    "doc_term_matrix = [dictionary.doc2bow(doc) for doc in df['post_clean']]"
   ]
  },
  {
   "cell_type": "code",
   "execution_count": 36,
   "metadata": {},
   "outputs": [],
   "source": [
    "# Do Topic Modeling\n",
    "# Creating the object for LDA model using gensim library\n",
    "Lda = gensim.models.ldamodel.LdaModel\n",
    "\n",
    "# Running and Trainign LDA model on the document term matrix.\n",
    "ldamodel = Lda(doc_term_matrix, num_topics=5, id2word = dictionary, passes=50)"
   ]
  },
  {
   "cell_type": "code",
   "execution_count": 37,
   "metadata": {},
   "outputs": [
    {
     "data": {
      "text/plain": [
       "[(0, '0.018*\"reply\" + 0.011*\"oath\" + 0.010*\"new\" + 0.009*\"re\"'),\n",
       " (1, '0.018*\"people\" + 0.014*\"american\" + 0.011*\"state\" + 0.011*\"right\"'),\n",
       " (2, '0.078*\"shall\" + 0.043*\"state\" + 0.020*\"united\" + 0.013*\"law\"'),\n",
       " (3, '0.016*\"reply\" + 0.009*\"re\" + 0.007*\"oath\" + 0.006*\"keeper\"'),\n",
       " (4, '0.036*\"militia\" + 0.015*\"citizen\" + 0.013*\"state\" + 0.010*\"duty\"')]"
      ]
     },
     "execution_count": 37,
     "metadata": {},
     "output_type": "execute_result"
    }
   ],
   "source": [
    "# print output\n",
    "ldamodel.print_topics(num_topics=5, num_words=4)"
   ]
  },
  {
   "cell_type": "code",
   "execution_count": 38,
   "metadata": {},
   "outputs": [
    {
     "data": {
      "text/plain": [
       "[(0,\n",
       "  '0.018*\"reply\" + 0.011*\"oath\" + 0.010*\"new\" + 0.009*\"re\" + 0.008*\"keeper\" + 0.006*\"hello\" + 0.005*\"state\" + 0.005*\"news\" + 0.004*\"constitution\" + 0.004*\"ok\"'),\n",
       " (1,\n",
       "  '0.018*\"people\" + 0.014*\"american\" + 0.011*\"state\" + 0.011*\"right\" + 0.011*\"order\" + 0.008*\"obey\" + 0.008*\"constitution\" + 0.008*\"war\" + 0.007*\"act\" + 0.007*\"government\"'),\n",
       " (2,\n",
       "  '0.078*\"shall\" + 0.043*\"state\" + 0.020*\"united\" + 0.013*\"law\" + 0.012*\"president\" + 0.012*\"may\" + 0.012*\"congress\" + 0.011*\"house\" + 0.010*\"representative\" + 0.009*\"person\"'),\n",
       " (3,\n",
       "  '0.016*\"reply\" + 0.009*\"re\" + 0.007*\"oath\" + 0.006*\"keeper\" + 0.006*\"hi\" + 0.006*\"eddie\" + 0.005*\"year\" + 0.005*\"u\" + 0.005*\"member\" + 0.005*\"it\"'),\n",
       " (4,\n",
       "  '0.036*\"militia\" + 0.015*\"citizen\" + 0.013*\"state\" + 0.010*\"duty\" + 0.010*\"active\" + 0.010*\"military\" + 0.010*\"oath\" + 0.009*\"keeper\" + 0.008*\"forum\" + 0.008*\"mission\"')]"
      ]
     },
     "execution_count": 38,
     "metadata": {},
     "output_type": "execute_result"
    }
   ],
   "source": [
    "ldamodel.print_topics(num_topics=5, num_words=10)"
   ]
  },
  {
   "cell_type": "code",
   "execution_count": 46,
   "metadata": {},
   "outputs": [
    {
     "data": {
      "text/plain": [
       "[('the', 1024),\n",
       " ('of', 638),\n",
       " ('and', 562),\n",
       " ('to', 542),\n",
       " ('a', 277),\n",
       " ('in', 272),\n",
       " ('be', 235),\n",
       " ('I', 226),\n",
       " ('shall', 206),\n",
       " ('that', 172),\n",
       " ('for', 169),\n",
       " ('or', 162),\n",
       " ('have', 131),\n",
       " ('on', 128),\n",
       " ('is', 126),\n",
       " ('by', 115),\n",
       " ('as', 111),\n",
       " ('our', 92),\n",
       " ('it', 92),\n",
       " ('Reply', 91),\n",
       " ('not', 91),\n",
       " ('any', 90),\n",
       " ('we', 83),\n",
       " ('will', 82),\n",
       " ('The', 78),\n",
       " ('with', 77),\n",
       " ('an', 77),\n",
       " ('you', 77),\n",
       " ('their', 76),\n",
       " ('from', 74),\n",
       " ('We', 73),\n",
       " ('Oath', 72),\n",
       " ('my', 72),\n",
       " ('at', 71),\n",
       " ('such', 68),\n",
       " ('all', 66),\n",
       " ('but', 65),\n",
       " ('United', 59),\n",
       " ('this', 59),\n",
       " ('was', 57),\n",
       " ('are', 55),\n",
       " ('which', 54),\n",
       " ('who', 50),\n",
       " ('people', 50),\n",
       " ('Re:', 48),\n",
       " ('they', 46),\n",
       " ('State', 45),\n",
       " ('no', 44),\n",
       " ('may', 43),\n",
       " ('States,', 40),\n",
       " ('other', 38),\n",
       " ('one', 37),\n",
       " ('can', 37),\n",
       " ('been', 36),\n",
       " ('if', 36),\n",
       " ('would', 36),\n",
       " ('-', 35),\n",
       " ('Keepers', 34),\n",
       " ('two', 33),\n",
       " ('them', 33),\n",
       " ('American', 32),\n",
       " ('do', 31),\n",
       " ('time', 31),\n",
       " ('state', 31),\n",
       " ('about', 31),\n",
       " ('like', 30),\n",
       " ('Article', 28),\n",
       " ('each', 28),\n",
       " ('against', 28),\n",
       " ('me', 28),\n",
       " ('States', 27),\n",
       " ('he', 27),\n",
       " ('make', 27),\n",
       " ('Constitution', 26),\n",
       " ('new', 26),\n",
       " ('am', 26),\n",
       " ('so', 25),\n",
       " ('President', 25),\n",
       " ('under', 25),\n",
       " ('out', 25),\n",
       " ('support', 25),\n",
       " ('right', 25),\n",
       " ('first', 24),\n",
       " ('Section', 23),\n",
       " ('into', 23),\n",
       " ('To', 23),\n",
       " ('duty', 23),\n",
       " ('In', 23),\n",
       " ('militia', 23),\n",
       " (\"don't\", 23),\n",
       " ('active', 23),\n",
       " ('his', 22),\n",
       " ('House', 21),\n",
       " ('every', 21),\n",
       " ('when', 21),\n",
       " ('being', 21),\n",
       " ('NOT', 21),\n",
       " ('citizens', 21),\n",
       " ('And', 20),\n",
       " ('No', 20)]"
      ]
     },
     "execution_count": 46,
     "metadata": {},
     "output_type": "execute_result"
    }
   ],
   "source": [
    "# Print top words in raw input data\n",
    "import collections\n",
    "ncount = 100\n",
    "collections.Counter(\" \".join(   df[\"post_content\"]   ).split()).most_common(ncount)"
   ]
  }
 ],
 "metadata": {
  "kernelspec": {
   "display_name": "Python 3",
   "language": "python",
   "name": "python3"
  },
  "language_info": {
   "codemirror_mode": {
    "name": "ipython",
    "version": 3
   },
   "file_extension": ".py",
   "mimetype": "text/x-python",
   "name": "python",
   "nbconvert_exporter": "python",
   "pygments_lexer": "ipython3",
   "version": "3.6.3"
  }
 },
 "nbformat": 4,
 "nbformat_minor": 2
}
