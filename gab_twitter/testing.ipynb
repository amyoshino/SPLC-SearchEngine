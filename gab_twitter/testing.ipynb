{
 "cells": [
  {
   "cell_type": "code",
   "execution_count": 1,
   "metadata": {
    "collapsed": false
   },
   "outputs": [],
   "source": [
    "import tweepy\n",
    "import time\n",
    "from credentials import TWITTER_API_KEYS\n",
    "\n",
    "def twitter_connect(twitter_creds):\n",
    "    auth = tweepy.OAuthHandler(\n",
    "        twitter_creds['consumer_key'],\n",
    "        twitter_creds['consumer_secret'])\n",
    "    auth.set_access_token(\n",
    "        twitter_creds['access_token_key'],\n",
    "        twitter_creds['access_token_secret'])\n",
    "    tw = tweepy.API(auth)\n",
    "    return tw\n",
    "\n",
    "tw = twitter_connect(TWITTER_API_KEYS)"
   ]
  },
  {
   "cell_type": "code",
   "execution_count": 17,
   "metadata": {
    "collapsed": false
   },
   "outputs": [],
   "source": [
    "\n",
    "# from http://docs.tweepy.org/en/v3.5.0/code_snippet.html#handling-the-rate-limit-using-cursors\n",
    "def limit_handled(cursor):\n",
    "    while True:\n",
    "        try:\n",
    "            yield cursor.next()\n",
    "        except tweepy.RateLimitError:\n",
    "            print 'sleeping...'\n",
    "            time.sleep(15 * 60)\n",
    "\n",
    "_target_screen_name = 'dturbay2'  # 75k followers\n",
    "def get_follower_descriptions(scrn_name):\n",
    "    '''\n",
    "    input: screen_name\n",
    "    output: {screen_name: profile_description}\n",
    "        - screen names and profile bio/description of all followers for input screen_name\n",
    "    '''\n",
    "    followers = {}\n",
    "    for follower in limit_handled(tweepy.Cursor(tw.followers, screen_name=_target_screen_name).items()):\n",
    "        k = follower.screen_name\n",
    "        v = follower.description\n",
    "        print 'adding {}'.format(k)\n",
    "        followers[k] = v\n",
    "    return followers"
   ]
  },
  {
   "cell_type": "code",
   "execution_count": null,
   "metadata": {
    "collapsed": false
   },
   "outputs": [],
   "source": [
    "target_followers = get_followers('dturbay2')"
   ]
  },
  {
   "cell_type": "code",
   "execution_count": null,
   "metadata": {
    "collapsed": false
   },
   "outputs": [],
   "source": []
  },
  {
   "cell_type": "code",
   "execution_count": null,
   "metadata": {
    "collapsed": true
   },
   "outputs": [],
   "source": []
  },
  {
   "cell_type": "code",
   "execution_count": null,
   "metadata": {
    "collapsed": false
   },
   "outputs": [],
   "source": []
  },
  {
   "cell_type": "code",
   "execution_count": null,
   "metadata": {
    "collapsed": false
   },
   "outputs": [],
   "source": []
  },
  {
   "cell_type": "code",
   "execution_count": null,
   "metadata": {
    "collapsed": true
   },
   "outputs": [],
   "source": []
  }
 ],
 "metadata": {
  "kernelspec": {
   "display_name": "Python 2",
   "language": "python",
   "name": "python2"
  },
  "language_info": {
   "codemirror_mode": {
    "name": "ipython",
    "version": 2
   },
   "file_extension": ".py",
   "mimetype": "text/x-python",
   "name": "python",
   "nbconvert_exporter": "python",
   "pygments_lexer": "ipython2",
   "version": "2.7.12"
  }
 },
 "nbformat": 4,
 "nbformat_minor": 0
}
